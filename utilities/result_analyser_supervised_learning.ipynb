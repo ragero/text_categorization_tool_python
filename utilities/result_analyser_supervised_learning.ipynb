{
 "metadata": {
  "language_info": {
   "codemirror_mode": {
    "name": "ipython",
    "version": 3
   },
   "file_extension": ".py",
   "mimetype": "text/x-python",
   "name": "python",
   "nbconvert_exporter": "python",
   "pygments_lexer": "ipython3",
   "version": "3.7.3-final"
  },
  "orig_nbformat": 2,
  "kernelspec": {
   "name": "python3",
   "display_name": "Python 3",
   "language": "python"
  }
 },
 "nbformat": 4,
 "nbformat_minor": 2,
 "cells": [
  {
   "source": [
    "# Imports"
   ],
   "cell_type": "markdown",
   "metadata": {}
  },
  {
   "cell_type": "code",
   "execution_count": 1,
   "metadata": {},
   "outputs": [],
   "source": [
    "import pandas as pd"
   ]
  },
  {
   "source": [
    "# Reading and Processing"
   ],
   "cell_type": "markdown",
   "metadata": {}
  },
  {
   "cell_type": "code",
   "execution_count": 2,
   "metadata": {},
   "outputs": [],
   "source": [
    "df = pd.read_csv('/home/rafael/Área de Trabalho/Projetos/TextCategorizationToolPython/saida/resultados_teste.csv')"
   ]
  },
  {
   "cell_type": "code",
   "execution_count": 3,
   "metadata": {},
   "outputs": [
    {
     "output_type": "execute_result",
     "data": {
      "text/plain": [
       "         Algorithm                                         Parameters  \\\n",
       "0   MyDeepLearning  {'layers': {'embedding': {'output_dim': 50, 't...   \n",
       "1   MyDeepLearning  {'layers': {'embedding': {'output_dim': 50, 't...   \n",
       "2   MyDeepLearning  {'layers': {'embedding': {'output_dim': 50, 't...   \n",
       "3   MyDeepLearning  {'layers': {'embedding': {'output_dim': 50, 't...   \n",
       "4   MyDeepLearning  {'layers': {'embedding': {'output_dim': 50, 't...   \n",
       "5   MyDeepLearning  {'layers': {'embedding': {'output_dim': 50, 't...   \n",
       "6   MyDeepLearning  {'layers': {'embedding': {'output_dim': 50, 't...   \n",
       "7   MyDeepLearning  {'layers': {'embedding': {'output_dim': 50, 't...   \n",
       "8   MyDeepLearning  {'layers': {'embedding': {'output_dim': 50, 't...   \n",
       "9   MyDeepLearning  {'layers': {'embedding': {'output_dim': 50, 't...   \n",
       "10  MyDeepLearning  {'layers': {'embedding': {'output_dim': 50, 't...   \n",
       "11  MyDeepLearning  {'layers': {'embedding': {'output_dim': 50, 't...   \n",
       "12  MyDeepLearning  {'layers': {'embedding': {'output_dim': 50, 't...   \n",
       "13  MyDeepLearning  {'layers': {'embedding': {'output_dim': 50, 't...   \n",
       "14  MyDeepLearning  {'layers': {'embedding': {'output_dim': 50, 't...   \n",
       "15  MyDeepLearning  {'layers': {'embedding': {'output_dim': 50, 't...   \n",
       "16  MyDeepLearning  {'layers': {'embedding': {'output_dim': 50, 't...   \n",
       "17  MyDeepLearning  {'layers': {'embedding': {'output_dim': 50, 't...   \n",
       "18  MyDeepLearning  {'layers': {'embedding': {'output_dim': 50, 't...   \n",
       "19  MyDeepLearning  {'layers': {'embedding': {'output_dim': 50, 't...   \n",
       "20  MyDeepLearning  {'layers': {'embedding': {'output_dim': 50, 't...   \n",
       "21  MyDeepLearning  {'layers': {'embedding': {'output_dim': 50, 't...   \n",
       "22  MyDeepLearning  {'layers': {'embedding': {'output_dim': 50, 't...   \n",
       "\n",
       "    Iteration  Accuracy  Macro_Precision  Macro_Recall  Macro_F1  \\\n",
       "0           0  0.733333         0.833333      0.779808  0.800752   \n",
       "1           1  0.866667         0.878205      0.853205  0.848381   \n",
       "2           2  0.766667         0.859375      0.778205  0.806322   \n",
       "3           3  0.800000         0.877778      0.836538  0.852861   \n",
       "4           4  0.600000         0.769697      0.653846  0.678571   \n",
       "5           5  0.833333         0.906250      0.855769  0.873563   \n",
       "6           6  0.833333         0.890873      0.886538  0.887914   \n",
       "7           7  0.933333         0.955769      0.955769  0.955769   \n",
       "8           8  0.866667         0.894841      0.783333  0.793568   \n",
       "9           9  0.689655         0.834559      0.650000  0.705747   \n",
       "10          0  0.700000         0.784903      0.643910  0.666667   \n",
       "11          1  0.833333         0.833929      0.886538  0.846094   \n",
       "12          2  0.766667         0.912500      0.766667  0.789827   \n",
       "13          3  0.700000         0.810764      0.736538  0.758734   \n",
       "14          4  0.600000         0.775000      0.548077  0.606602   \n",
       "15          5  0.700000         0.812500      0.767308  0.783525   \n",
       "16          0  0.600000         0.562302      0.542949  0.536869   \n",
       "17          1  0.500000         0.381579      0.392308  0.375000   \n",
       "18          2  0.566667         0.469246      0.479808  0.466437   \n",
       "19          3  0.700000         0.773077      0.773077  0.773077   \n",
       "20          4  0.466667         0.479167      0.390385  0.421136   \n",
       "21          5  0.500000         0.379167      0.440385  0.397917   \n",
       "22          6  0.566667         0.512500      0.461538  0.460317   \n",
       "\n",
       "    Micro_Precision  Micro_Recall  Micro_F1  \\\n",
       "0          0.733333      0.733333  0.733333   \n",
       "1          0.866667      0.866667  0.866667   \n",
       "2          0.766667      0.766667  0.766667   \n",
       "3          0.800000      0.800000  0.800000   \n",
       "4          0.600000      0.600000  0.600000   \n",
       "5          0.833333      0.833333  0.833333   \n",
       "6          0.833333      0.833333  0.833333   \n",
       "7          0.933333      0.933333  0.933333   \n",
       "8          0.866667      0.866667  0.866667   \n",
       "9          0.689655      0.689655  0.689655   \n",
       "10         0.700000      0.700000  0.700000   \n",
       "11         0.833333      0.833333  0.833333   \n",
       "12         0.766667      0.766667  0.766667   \n",
       "13         0.700000      0.700000  0.700000   \n",
       "14         0.600000      0.600000  0.600000   \n",
       "15         0.700000      0.700000  0.700000   \n",
       "16         0.600000      0.600000  0.600000   \n",
       "17         0.500000      0.500000  0.500000   \n",
       "18         0.566667      0.566667  0.566667   \n",
       "19         0.700000      0.700000  0.700000   \n",
       "20         0.466667      0.466667  0.466667   \n",
       "21         0.500000      0.500000  0.500000   \n",
       "22         0.566667      0.566667  0.566667   \n",
       "\n",
       "                                     Confusion_Matrix    Memory  \\\n",
       "0   [[10, 3, 0, 0], [4, 6, 0, 0], [0, 0, 3, 0], [1...  0.054688   \n",
       "1   [[11, 0, 0, 2], [1, 9, 0, 0], [1, 0, 2, 0], [0...  0.054688   \n",
       "2   [[11, 2, 0, 0], [4, 6, 0, 0], [1, 0, 2, 0], [0...  0.054688   \n",
       "3   [[11, 2, 0, 0], [3, 7, 0, 0], [0, 0, 2, 0], [1...  0.054688   \n",
       "4   [[8, 5, 0, 0], [4, 6, 0, 0], [0, 0, 2, 0], [3,...  0.054688   \n",
       "5   [[12, 1, 0, 0], [3, 7, 0, 0], [0, 0, 2, 0], [1...  0.054688   \n",
       "6   [[11, 2, 0, 0], [3, 7, 0, 0], [0, 0, 2, 0], [0...  0.054688   \n",
       "7   [[12, 1, 0, 0], [1, 9, 0, 0], [0, 0, 2, 0], [0...  0.054688   \n",
       "8   [[12, 0, 0, 0], [2, 8, 0, 0], [0, 1, 1, 1], [0...  0.054688   \n",
       "9   [[10, 2, 0, 0], [4, 6, 0, 0], [1, 0, 2, 0], [2...  0.054688   \n",
       "10  [[9, 4, 0, 0], [2, 8, 0, 0], [0, 1, 1, 1], [0,...  0.054688   \n",
       "11  [[11, 0, 1, 1], [3, 7, 0, 0], [0, 0, 3, 0], [0...  0.054688   \n",
       "12  [[13, 0, 0, 0], [6, 4, 0, 0], [1, 0, 2, 0], [0...  0.054688   \n",
       "13  [[11, 2, 0, 0], [5, 5, 0, 0], [0, 0, 2, 0], [0...  0.054688   \n",
       "14  [[9, 4, 0, 0], [4, 6, 0, 0], [0, 1, 1, 0], [2,...  0.054688   \n",
       "15  [[10, 3, 0, 0], [5, 5, 0, 0], [0, 0, 2, 0], [1...  0.054688   \n",
       "16  [[7, 5, 0, 1], [1, 8, 1, 0], [0, 0, 1, 2], [1,...  0.054688   \n",
       "17  [[10, 3, 0, 0], [6, 3, 0, 1], [2, 0, 0, 1], [1...  0.054688   \n",
       "18  [[10, 3, 0, 0], [4, 4, 1, 1], [3, 0, 0, 0], [1...  0.054688   \n",
       "19  [[9, 3, 0, 1], [4, 6, 0, 0], [0, 0, 2, 0], [0,...  0.054688   \n",
       "20  [[6, 6, 1, 0], [5, 5, 0, 0], [1, 1, 0, 0], [0,...  0.054688   \n",
       "21  [[6, 5, 0, 2], [3, 5, 0, 2], [1, 1, 0, 0], [0,...  0.054688   \n",
       "22  [[11, 1, 1, 0], [7, 2, 1, 0], [2, 0, 0, 0], [0...  0.054688   \n",
       "\n",
       "    Building_Time  Classification_Time  \n",
       "0        0.051098             0.000381  \n",
       "1        0.057159             0.000306  \n",
       "2        0.057791             0.000402  \n",
       "3        0.062426             0.000417  \n",
       "4        0.059589             0.000348  \n",
       "5        0.060072             0.000354  \n",
       "6        0.056966             0.000349  \n",
       "7        0.061199             0.000350  \n",
       "8        0.056709             0.000352  \n",
       "9        0.055298             0.000350  \n",
       "10       0.059540             0.000386  \n",
       "11       0.059432             0.000342  \n",
       "12       0.058523             0.000400  \n",
       "13       0.063454             0.000347  \n",
       "14       0.063056             0.000534  \n",
       "15       0.060842             0.000307  \n",
       "16       0.055544             0.000449  \n",
       "17       0.056843             0.000345  \n",
       "18       0.057048             0.000341  \n",
       "19       0.057173             0.000360  \n",
       "20       0.056694             0.000357  \n",
       "21       0.056956             0.000362  \n",
       "22       0.056927             0.000350  "
      ],
      "text/html": "<div>\n<style scoped>\n    .dataframe tbody tr th:only-of-type {\n        vertical-align: middle;\n    }\n\n    .dataframe tbody tr th {\n        vertical-align: top;\n    }\n\n    .dataframe thead th {\n        text-align: right;\n    }\n</style>\n<table border=\"1\" class=\"dataframe\">\n  <thead>\n    <tr style=\"text-align: right;\">\n      <th></th>\n      <th>Algorithm</th>\n      <th>Parameters</th>\n      <th>Iteration</th>\n      <th>Accuracy</th>\n      <th>Macro_Precision</th>\n      <th>Macro_Recall</th>\n      <th>Macro_F1</th>\n      <th>Micro_Precision</th>\n      <th>Micro_Recall</th>\n      <th>Micro_F1</th>\n      <th>Confusion_Matrix</th>\n      <th>Memory</th>\n      <th>Building_Time</th>\n      <th>Classification_Time</th>\n    </tr>\n  </thead>\n  <tbody>\n    <tr>\n      <th>0</th>\n      <td>MyDeepLearning</td>\n      <td>{'layers': {'embedding': {'output_dim': 50, 't...</td>\n      <td>0</td>\n      <td>0.733333</td>\n      <td>0.833333</td>\n      <td>0.779808</td>\n      <td>0.800752</td>\n      <td>0.733333</td>\n      <td>0.733333</td>\n      <td>0.733333</td>\n      <td>[[10, 3, 0, 0], [4, 6, 0, 0], [0, 0, 3, 0], [1...</td>\n      <td>0.054688</td>\n      <td>0.051098</td>\n      <td>0.000381</td>\n    </tr>\n    <tr>\n      <th>1</th>\n      <td>MyDeepLearning</td>\n      <td>{'layers': {'embedding': {'output_dim': 50, 't...</td>\n      <td>1</td>\n      <td>0.866667</td>\n      <td>0.878205</td>\n      <td>0.853205</td>\n      <td>0.848381</td>\n      <td>0.866667</td>\n      <td>0.866667</td>\n      <td>0.866667</td>\n      <td>[[11, 0, 0, 2], [1, 9, 0, 0], [1, 0, 2, 0], [0...</td>\n      <td>0.054688</td>\n      <td>0.057159</td>\n      <td>0.000306</td>\n    </tr>\n    <tr>\n      <th>2</th>\n      <td>MyDeepLearning</td>\n      <td>{'layers': {'embedding': {'output_dim': 50, 't...</td>\n      <td>2</td>\n      <td>0.766667</td>\n      <td>0.859375</td>\n      <td>0.778205</td>\n      <td>0.806322</td>\n      <td>0.766667</td>\n      <td>0.766667</td>\n      <td>0.766667</td>\n      <td>[[11, 2, 0, 0], [4, 6, 0, 0], [1, 0, 2, 0], [0...</td>\n      <td>0.054688</td>\n      <td>0.057791</td>\n      <td>0.000402</td>\n    </tr>\n    <tr>\n      <th>3</th>\n      <td>MyDeepLearning</td>\n      <td>{'layers': {'embedding': {'output_dim': 50, 't...</td>\n      <td>3</td>\n      <td>0.800000</td>\n      <td>0.877778</td>\n      <td>0.836538</td>\n      <td>0.852861</td>\n      <td>0.800000</td>\n      <td>0.800000</td>\n      <td>0.800000</td>\n      <td>[[11, 2, 0, 0], [3, 7, 0, 0], [0, 0, 2, 0], [1...</td>\n      <td>0.054688</td>\n      <td>0.062426</td>\n      <td>0.000417</td>\n    </tr>\n    <tr>\n      <th>4</th>\n      <td>MyDeepLearning</td>\n      <td>{'layers': {'embedding': {'output_dim': 50, 't...</td>\n      <td>4</td>\n      <td>0.600000</td>\n      <td>0.769697</td>\n      <td>0.653846</td>\n      <td>0.678571</td>\n      <td>0.600000</td>\n      <td>0.600000</td>\n      <td>0.600000</td>\n      <td>[[8, 5, 0, 0], [4, 6, 0, 0], [0, 0, 2, 0], [3,...</td>\n      <td>0.054688</td>\n      <td>0.059589</td>\n      <td>0.000348</td>\n    </tr>\n    <tr>\n      <th>5</th>\n      <td>MyDeepLearning</td>\n      <td>{'layers': {'embedding': {'output_dim': 50, 't...</td>\n      <td>5</td>\n      <td>0.833333</td>\n      <td>0.906250</td>\n      <td>0.855769</td>\n      <td>0.873563</td>\n      <td>0.833333</td>\n      <td>0.833333</td>\n      <td>0.833333</td>\n      <td>[[12, 1, 0, 0], [3, 7, 0, 0], [0, 0, 2, 0], [1...</td>\n      <td>0.054688</td>\n      <td>0.060072</td>\n      <td>0.000354</td>\n    </tr>\n    <tr>\n      <th>6</th>\n      <td>MyDeepLearning</td>\n      <td>{'layers': {'embedding': {'output_dim': 50, 't...</td>\n      <td>6</td>\n      <td>0.833333</td>\n      <td>0.890873</td>\n      <td>0.886538</td>\n      <td>0.887914</td>\n      <td>0.833333</td>\n      <td>0.833333</td>\n      <td>0.833333</td>\n      <td>[[11, 2, 0, 0], [3, 7, 0, 0], [0, 0, 2, 0], [0...</td>\n      <td>0.054688</td>\n      <td>0.056966</td>\n      <td>0.000349</td>\n    </tr>\n    <tr>\n      <th>7</th>\n      <td>MyDeepLearning</td>\n      <td>{'layers': {'embedding': {'output_dim': 50, 't...</td>\n      <td>7</td>\n      <td>0.933333</td>\n      <td>0.955769</td>\n      <td>0.955769</td>\n      <td>0.955769</td>\n      <td>0.933333</td>\n      <td>0.933333</td>\n      <td>0.933333</td>\n      <td>[[12, 1, 0, 0], [1, 9, 0, 0], [0, 0, 2, 0], [0...</td>\n      <td>0.054688</td>\n      <td>0.061199</td>\n      <td>0.000350</td>\n    </tr>\n    <tr>\n      <th>8</th>\n      <td>MyDeepLearning</td>\n      <td>{'layers': {'embedding': {'output_dim': 50, 't...</td>\n      <td>8</td>\n      <td>0.866667</td>\n      <td>0.894841</td>\n      <td>0.783333</td>\n      <td>0.793568</td>\n      <td>0.866667</td>\n      <td>0.866667</td>\n      <td>0.866667</td>\n      <td>[[12, 0, 0, 0], [2, 8, 0, 0], [0, 1, 1, 1], [0...</td>\n      <td>0.054688</td>\n      <td>0.056709</td>\n      <td>0.000352</td>\n    </tr>\n    <tr>\n      <th>9</th>\n      <td>MyDeepLearning</td>\n      <td>{'layers': {'embedding': {'output_dim': 50, 't...</td>\n      <td>9</td>\n      <td>0.689655</td>\n      <td>0.834559</td>\n      <td>0.650000</td>\n      <td>0.705747</td>\n      <td>0.689655</td>\n      <td>0.689655</td>\n      <td>0.689655</td>\n      <td>[[10, 2, 0, 0], [4, 6, 0, 0], [1, 0, 2, 0], [2...</td>\n      <td>0.054688</td>\n      <td>0.055298</td>\n      <td>0.000350</td>\n    </tr>\n    <tr>\n      <th>10</th>\n      <td>MyDeepLearning</td>\n      <td>{'layers': {'embedding': {'output_dim': 50, 't...</td>\n      <td>0</td>\n      <td>0.700000</td>\n      <td>0.784903</td>\n      <td>0.643910</td>\n      <td>0.666667</td>\n      <td>0.700000</td>\n      <td>0.700000</td>\n      <td>0.700000</td>\n      <td>[[9, 4, 0, 0], [2, 8, 0, 0], [0, 1, 1, 1], [0,...</td>\n      <td>0.054688</td>\n      <td>0.059540</td>\n      <td>0.000386</td>\n    </tr>\n    <tr>\n      <th>11</th>\n      <td>MyDeepLearning</td>\n      <td>{'layers': {'embedding': {'output_dim': 50, 't...</td>\n      <td>1</td>\n      <td>0.833333</td>\n      <td>0.833929</td>\n      <td>0.886538</td>\n      <td>0.846094</td>\n      <td>0.833333</td>\n      <td>0.833333</td>\n      <td>0.833333</td>\n      <td>[[11, 0, 1, 1], [3, 7, 0, 0], [0, 0, 3, 0], [0...</td>\n      <td>0.054688</td>\n      <td>0.059432</td>\n      <td>0.000342</td>\n    </tr>\n    <tr>\n      <th>12</th>\n      <td>MyDeepLearning</td>\n      <td>{'layers': {'embedding': {'output_dim': 50, 't...</td>\n      <td>2</td>\n      <td>0.766667</td>\n      <td>0.912500</td>\n      <td>0.766667</td>\n      <td>0.789827</td>\n      <td>0.766667</td>\n      <td>0.766667</td>\n      <td>0.766667</td>\n      <td>[[13, 0, 0, 0], [6, 4, 0, 0], [1, 0, 2, 0], [0...</td>\n      <td>0.054688</td>\n      <td>0.058523</td>\n      <td>0.000400</td>\n    </tr>\n    <tr>\n      <th>13</th>\n      <td>MyDeepLearning</td>\n      <td>{'layers': {'embedding': {'output_dim': 50, 't...</td>\n      <td>3</td>\n      <td>0.700000</td>\n      <td>0.810764</td>\n      <td>0.736538</td>\n      <td>0.758734</td>\n      <td>0.700000</td>\n      <td>0.700000</td>\n      <td>0.700000</td>\n      <td>[[11, 2, 0, 0], [5, 5, 0, 0], [0, 0, 2, 0], [0...</td>\n      <td>0.054688</td>\n      <td>0.063454</td>\n      <td>0.000347</td>\n    </tr>\n    <tr>\n      <th>14</th>\n      <td>MyDeepLearning</td>\n      <td>{'layers': {'embedding': {'output_dim': 50, 't...</td>\n      <td>4</td>\n      <td>0.600000</td>\n      <td>0.775000</td>\n      <td>0.548077</td>\n      <td>0.606602</td>\n      <td>0.600000</td>\n      <td>0.600000</td>\n      <td>0.600000</td>\n      <td>[[9, 4, 0, 0], [4, 6, 0, 0], [0, 1, 1, 0], [2,...</td>\n      <td>0.054688</td>\n      <td>0.063056</td>\n      <td>0.000534</td>\n    </tr>\n    <tr>\n      <th>15</th>\n      <td>MyDeepLearning</td>\n      <td>{'layers': {'embedding': {'output_dim': 50, 't...</td>\n      <td>5</td>\n      <td>0.700000</td>\n      <td>0.812500</td>\n      <td>0.767308</td>\n      <td>0.783525</td>\n      <td>0.700000</td>\n      <td>0.700000</td>\n      <td>0.700000</td>\n      <td>[[10, 3, 0, 0], [5, 5, 0, 0], [0, 0, 2, 0], [1...</td>\n      <td>0.054688</td>\n      <td>0.060842</td>\n      <td>0.000307</td>\n    </tr>\n    <tr>\n      <th>16</th>\n      <td>MyDeepLearning</td>\n      <td>{'layers': {'embedding': {'output_dim': 50, 't...</td>\n      <td>0</td>\n      <td>0.600000</td>\n      <td>0.562302</td>\n      <td>0.542949</td>\n      <td>0.536869</td>\n      <td>0.600000</td>\n      <td>0.600000</td>\n      <td>0.600000</td>\n      <td>[[7, 5, 0, 1], [1, 8, 1, 0], [0, 0, 1, 2], [1,...</td>\n      <td>0.054688</td>\n      <td>0.055544</td>\n      <td>0.000449</td>\n    </tr>\n    <tr>\n      <th>17</th>\n      <td>MyDeepLearning</td>\n      <td>{'layers': {'embedding': {'output_dim': 50, 't...</td>\n      <td>1</td>\n      <td>0.500000</td>\n      <td>0.381579</td>\n      <td>0.392308</td>\n      <td>0.375000</td>\n      <td>0.500000</td>\n      <td>0.500000</td>\n      <td>0.500000</td>\n      <td>[[10, 3, 0, 0], [6, 3, 0, 1], [2, 0, 0, 1], [1...</td>\n      <td>0.054688</td>\n      <td>0.056843</td>\n      <td>0.000345</td>\n    </tr>\n    <tr>\n      <th>18</th>\n      <td>MyDeepLearning</td>\n      <td>{'layers': {'embedding': {'output_dim': 50, 't...</td>\n      <td>2</td>\n      <td>0.566667</td>\n      <td>0.469246</td>\n      <td>0.479808</td>\n      <td>0.466437</td>\n      <td>0.566667</td>\n      <td>0.566667</td>\n      <td>0.566667</td>\n      <td>[[10, 3, 0, 0], [4, 4, 1, 1], [3, 0, 0, 0], [1...</td>\n      <td>0.054688</td>\n      <td>0.057048</td>\n      <td>0.000341</td>\n    </tr>\n    <tr>\n      <th>19</th>\n      <td>MyDeepLearning</td>\n      <td>{'layers': {'embedding': {'output_dim': 50, 't...</td>\n      <td>3</td>\n      <td>0.700000</td>\n      <td>0.773077</td>\n      <td>0.773077</td>\n      <td>0.773077</td>\n      <td>0.700000</td>\n      <td>0.700000</td>\n      <td>0.700000</td>\n      <td>[[9, 3, 0, 1], [4, 6, 0, 0], [0, 0, 2, 0], [0,...</td>\n      <td>0.054688</td>\n      <td>0.057173</td>\n      <td>0.000360</td>\n    </tr>\n    <tr>\n      <th>20</th>\n      <td>MyDeepLearning</td>\n      <td>{'layers': {'embedding': {'output_dim': 50, 't...</td>\n      <td>4</td>\n      <td>0.466667</td>\n      <td>0.479167</td>\n      <td>0.390385</td>\n      <td>0.421136</td>\n      <td>0.466667</td>\n      <td>0.466667</td>\n      <td>0.466667</td>\n      <td>[[6, 6, 1, 0], [5, 5, 0, 0], [1, 1, 0, 0], [0,...</td>\n      <td>0.054688</td>\n      <td>0.056694</td>\n      <td>0.000357</td>\n    </tr>\n    <tr>\n      <th>21</th>\n      <td>MyDeepLearning</td>\n      <td>{'layers': {'embedding': {'output_dim': 50, 't...</td>\n      <td>5</td>\n      <td>0.500000</td>\n      <td>0.379167</td>\n      <td>0.440385</td>\n      <td>0.397917</td>\n      <td>0.500000</td>\n      <td>0.500000</td>\n      <td>0.500000</td>\n      <td>[[6, 5, 0, 2], [3, 5, 0, 2], [1, 1, 0, 0], [0,...</td>\n      <td>0.054688</td>\n      <td>0.056956</td>\n      <td>0.000362</td>\n    </tr>\n    <tr>\n      <th>22</th>\n      <td>MyDeepLearning</td>\n      <td>{'layers': {'embedding': {'output_dim': 50, 't...</td>\n      <td>6</td>\n      <td>0.566667</td>\n      <td>0.512500</td>\n      <td>0.461538</td>\n      <td>0.460317</td>\n      <td>0.566667</td>\n      <td>0.566667</td>\n      <td>0.566667</td>\n      <td>[[11, 1, 1, 0], [7, 2, 1, 0], [2, 0, 0, 0], [0...</td>\n      <td>0.054688</td>\n      <td>0.056927</td>\n      <td>0.000350</td>\n    </tr>\n  </tbody>\n</table>\n</div>"
     },
     "metadata": {},
     "execution_count": 3
    }
   ],
   "source": [
    "df"
   ]
  },
  {
   "cell_type": "code",
   "execution_count": 4,
   "metadata": {},
   "outputs": [
    {
     "output_type": "stream",
     "name": "stdout",
     "text": [
      "Qtd. de grupos: 3\n('MyDeepLearning', \"{'layers': {'embedding': {'output_dim': 50, 'trainable': True}, 'hidden': [{'type': 'GRU', 'units': 10, 'return_sequences': False}, {'type': 'Dropout', 'rate': 0.5}], 'output': {'activation': 'softmax'}}, 'batch_size': 32, 'num_epochs': 100, 'learning_rate': 0.001}\")\n0.5571428571428572\n('MyDeepLearning', \"{'layers': {'embedding': {'output_dim': 50, 'trainable': True}, 'hidden': [{'type': 'GRU', 'units': 10, 'return_sequences': True}, {'type': 'GlobalAveragePooling1D'}, {'type': 'Dropout', 'rate': 0.5}], 'output': {'activation': 'softmax'}}, 'batch_size': 32, 'num_epochs': 100, 'learning_rate': 0.001}\")\n0.7922988505747128\n('MyDeepLearning', \"{'layers': {'embedding': {'output_dim': 50, 'trainable': True}, 'hidden': [{'type': 'GRU', 'units': 20, 'return_sequences': True}, {'type': 'GlobalAveragePooling1D'}, {'type': 'Dropout', 'rate': 0.5}], 'output': {'activation': 'softmax'}}, 'batch_size': 32, 'num_epochs': 100, 'learning_rate': 0.001}\")\n0.7166666666666667\n=============================\n0.7922988505747128\n=============================\n"
     ]
    }
   ],
   "source": [
    "metric = 'Accuracy'\n",
    "\n",
    "df_grouped = df.groupby(by=['Algorithm','Parameters'])\n",
    "print(f'Qtd. de grupos: {len(df_grouped)}')\n",
    "df_grouped = df_grouped.mean()\n",
    "for idx in df_grouped.index: \n",
    "    print(idx)\n",
    "    print(df_grouped.loc[idx][metric])\n",
    "print('=============================')\n",
    "print(f'{df_grouped[metric].max()}')\n",
    "print('=============================')"
   ]
  },
  {
   "cell_type": "code",
   "execution_count": 24,
   "metadata": {},
   "outputs": [
    {
     "output_type": "execute_result",
     "data": {
      "text/plain": [
       "MultiIndex([('MyDeepLearning', ...),\n",
       "            ('MyDeepLearning', ...),\n",
       "            ('MyDeepLearning', ...)],\n",
       "           names=['Algorithm', 'Parameters'])"
      ]
     },
     "metadata": {},
     "execution_count": 24
    }
   ],
   "source": [
    "df_grouped.index"
   ]
  },
  {
   "cell_type": "code",
   "execution_count": null,
   "metadata": {},
   "outputs": [],
   "source": []
  },
  {
   "cell_type": "code",
   "execution_count": null,
   "metadata": {},
   "outputs": [],
   "source": []
  },
  {
   "cell_type": "code",
   "execution_count": null,
   "metadata": {},
   "outputs": [],
   "source": []
  }
 ]
}