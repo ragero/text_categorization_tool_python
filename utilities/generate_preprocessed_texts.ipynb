{
 "metadata": {
  "language_info": {
   "codemirror_mode": {
    "name": "ipython",
    "version": 3
   },
   "file_extension": ".py",
   "mimetype": "text/x-python",
   "name": "python",
   "nbconvert_exporter": "python",
   "pygments_lexer": "ipython3",
   "version": "3.7.3-final"
  },
  "orig_nbformat": 2,
  "kernelspec": {
   "name": "python3",
   "display_name": "Python 3",
   "language": "python"
  }
 },
 "nbformat": 4,
 "nbformat_minor": 2,
 "cells": [
  {
   "source": [
    "# Imports"
   ],
   "cell_type": "markdown",
   "metadata": {}
  },
  {
   "cell_type": "code",
   "execution_count": 7,
   "metadata": {},
   "outputs": [],
   "source": [
    "import spacy\n",
    "import pandas as pd\n",
    "from tqdm import tqdm\n",
    "import re\n",
    "tqdm.pandas()"
   ]
  },
  {
   "source": [
    "# Loading resources"
   ],
   "cell_type": "markdown",
   "metadata": {}
  },
  {
   "cell_type": "code",
   "execution_count": 8,
   "metadata": {},
   "outputs": [],
   "source": [
    "nlp = spacy.load(\"en_core_web_sm\")"
   ]
  },
  {
   "source": [
    "# Definitions"
   ],
   "cell_type": "markdown",
   "metadata": {}
  },
  {
   "cell_type": "code",
   "execution_count": 45,
   "metadata": {},
   "outputs": [],
   "source": [
    "pattern1 = r'&.[a-z0-9]*?;' # pattern to remove html tags\n",
    "path = 'text_preprocessed' "
   ]
  },
  {
   "source": [
    "# Functions"
   ],
   "cell_type": "markdown",
   "metadata": {}
  },
  {
   "cell_type": "code",
   "execution_count": 46,
   "metadata": {},
   "outputs": [],
   "source": [
    "def preprocessing (text): \n",
    "  text = re.sub(pattern1, '', text).strip()\n",
    "  final_tokens = []\n",
    "  doc = nlp(text)\n",
    "  for token in doc:\n",
    "    if(token.is_alpha and not token.is_stop):\n",
    "          final_tokens.append(token.lemma_)\n",
    "      \n",
    "  return ' '.join(final_tokens)"
   ]
  },
  {
   "cell_type": "code",
   "execution_count": 47,
   "metadata": {},
   "outputs": [],
   "source": [
    "def preprocessing_pos (text): \n",
    "  text = re.sub(pattern1, '', text).strip()\n",
    "  final_tokens = []\n",
    "  doc = nlp(text)\n",
    "  for token in doc:\n",
    "    if(token.is_alpha and not token.is_stop):\n",
    "          final_tokens.append(f'{token.lemma_.lower()}_{token.pos_}')\n",
    "      \n",
    "  return ' '.join(final_tokens)"
   ]
  },
  {
   "source": [
    "# Preprocessing"
   ],
   "cell_type": "markdown",
   "metadata": {}
  },
  {
   "cell_type": "code",
   "execution_count": 48,
   "metadata": {},
   "outputs": [],
   "source": [
    "df = pd.read_csv(path)\n",
    "df = df.dropna()"
   ]
  },
  {
   "cell_type": "code",
   "execution_count": 49,
   "metadata": {},
   "outputs": [
    {
     "output_type": "stream",
     "name": "stderr",
     "text": [
      "100%|██████████| 7095/7095 [02:52<00:00, 41.18it/s]\n",
      "Done\n"
     ]
    }
   ],
   "source": [
    "df['text_preprocessed_with_pos'] = df['text'].progress_apply(preprocessing_pos)\n",
    "df.to_csv(path,index=False)\n",
    "print('Done')"
   ]
  },
  {
   "cell_type": "code",
   "execution_count": 50,
   "metadata": {},
   "outputs": [
    {
     "output_type": "execute_result",
     "data": {
      "text/plain": [
       "        file_name                                               text class  \\\n",
       "0     cacm.001232  Representation of the Standard ECMA 7-Bit Code...  cacm   \n",
       "1     cacm.002901  An Encoding Method for Multifield Sorting and ...  cacm   \n",
       "2     cacm.003171  Line Numbers Made Cheap A technique is describ...  cacm   \n",
       "3     cacm.001938  Some Criteria for Time-Sharing System Performa...  cacm   \n",
       "4     cacm.000233        Abstracts-Additional Nuclear Reactor Codes   cacm   \n",
       "...           ...                                                ...   ...   \n",
       "7090   med.000748  an electron microscopic study of developing ga...   med   \n",
       "7091   med.000968  fanconi's anaemia with hydrocephalus and thyro...   med   \n",
       "7092   med.000240  mitral atresia associated with pulmonary venou...   med   \n",
       "7093   med.000571  influence of alloxan diabetes on growth hormon...   med   \n",
       "7094   med.000324  4105. free fatty acid metabolism in chinese ha...   med   \n",
       "\n",
       "                                      text_preprocessed  \\\n",
       "0     representation Standard ECMA Code Punched Card...   \n",
       "1     encoding method Multifield Sorting Indexing Se...   \n",
       "2     line number cheap technique describe run time ...   \n",
       "3     criterion Time Sharing System Performance Time...   \n",
       "4             abstract Additional Nuclear Reactor Codes   \n",
       "...                                                 ...   \n",
       "7090  electron microscopic study develop gall bladde...   \n",
       "7091  fanconi anaemia hydrocephalus thyroid abnormal...   \n",
       "7092  mitral atresia associate pulmonary venous anom...   \n",
       "7093  influence alloxan diabetes growth hormone cont...   \n",
       "7094  free fatty acid metabolism chinese hamster nor...   \n",
       "\n",
       "                             text_preprocessed_with_pos  \n",
       "0     representation_NOUN standard_PROPN ecma_PROPN ...  \n",
       "1     encoding_NOUN method_NOUN multifield_PROPN sor...  \n",
       "2     line_NOUN number_NOUN cheap_ADJ technique_NOUN...  \n",
       "3     criterion_NOUN time_PROPN sharing_PROPN system...  \n",
       "4     abstract_NOUN additional_PROPN nuclear_PROPN r...  \n",
       "...                                                 ...  \n",
       "7090  electron_PROPN microscopic_ADJ study_NOUN deve...  \n",
       "7091  fanconi_PROPN anaemia_NOUN hydrocephalus_NOUN ...  \n",
       "7092  mitral_PROPN atresia_PROPN associate_VERB pulm...  \n",
       "7093  influence_NOUN alloxan_VERB diabetes_NOUN grow...  \n",
       "7094  free_ADJ fatty_NOUN acid_NOUN metabolism_NOUN ...  \n",
       "\n",
       "[7095 rows x 5 columns]"
      ],
      "text/html": "<div>\n<style scoped>\n    .dataframe tbody tr th:only-of-type {\n        vertical-align: middle;\n    }\n\n    .dataframe tbody tr th {\n        vertical-align: top;\n    }\n\n    .dataframe thead th {\n        text-align: right;\n    }\n</style>\n<table border=\"1\" class=\"dataframe\">\n  <thead>\n    <tr style=\"text-align: right;\">\n      <th></th>\n      <th>file_name</th>\n      <th>text</th>\n      <th>class</th>\n      <th>text_preprocessed</th>\n      <th>text_preprocessed_with_pos</th>\n    </tr>\n  </thead>\n  <tbody>\n    <tr>\n      <th>0</th>\n      <td>cacm.001232</td>\n      <td>Representation of the Standard ECMA 7-Bit Code...</td>\n      <td>cacm</td>\n      <td>representation Standard ECMA Code Punched Card...</td>\n      <td>representation_NOUN standard_PROPN ecma_PROPN ...</td>\n    </tr>\n    <tr>\n      <th>1</th>\n      <td>cacm.002901</td>\n      <td>An Encoding Method for Multifield Sorting and ...</td>\n      <td>cacm</td>\n      <td>encoding method Multifield Sorting Indexing Se...</td>\n      <td>encoding_NOUN method_NOUN multifield_PROPN sor...</td>\n    </tr>\n    <tr>\n      <th>2</th>\n      <td>cacm.003171</td>\n      <td>Line Numbers Made Cheap A technique is describ...</td>\n      <td>cacm</td>\n      <td>line number cheap technique describe run time ...</td>\n      <td>line_NOUN number_NOUN cheap_ADJ technique_NOUN...</td>\n    </tr>\n    <tr>\n      <th>3</th>\n      <td>cacm.001938</td>\n      <td>Some Criteria for Time-Sharing System Performa...</td>\n      <td>cacm</td>\n      <td>criterion Time Sharing System Performance Time...</td>\n      <td>criterion_NOUN time_PROPN sharing_PROPN system...</td>\n    </tr>\n    <tr>\n      <th>4</th>\n      <td>cacm.000233</td>\n      <td>Abstracts-Additional Nuclear Reactor Codes</td>\n      <td>cacm</td>\n      <td>abstract Additional Nuclear Reactor Codes</td>\n      <td>abstract_NOUN additional_PROPN nuclear_PROPN r...</td>\n    </tr>\n    <tr>\n      <th>...</th>\n      <td>...</td>\n      <td>...</td>\n      <td>...</td>\n      <td>...</td>\n      <td>...</td>\n    </tr>\n    <tr>\n      <th>7090</th>\n      <td>med.000748</td>\n      <td>an electron microscopic study of developing ga...</td>\n      <td>med</td>\n      <td>electron microscopic study develop gall bladde...</td>\n      <td>electron_PROPN microscopic_ADJ study_NOUN deve...</td>\n    </tr>\n    <tr>\n      <th>7091</th>\n      <td>med.000968</td>\n      <td>fanconi's anaemia with hydrocephalus and thyro...</td>\n      <td>med</td>\n      <td>fanconi anaemia hydrocephalus thyroid abnormal...</td>\n      <td>fanconi_PROPN anaemia_NOUN hydrocephalus_NOUN ...</td>\n    </tr>\n    <tr>\n      <th>7092</th>\n      <td>med.000240</td>\n      <td>mitral atresia associated with pulmonary venou...</td>\n      <td>med</td>\n      <td>mitral atresia associate pulmonary venous anom...</td>\n      <td>mitral_PROPN atresia_PROPN associate_VERB pulm...</td>\n    </tr>\n    <tr>\n      <th>7093</th>\n      <td>med.000571</td>\n      <td>influence of alloxan diabetes on growth hormon...</td>\n      <td>med</td>\n      <td>influence alloxan diabetes growth hormone cont...</td>\n      <td>influence_NOUN alloxan_VERB diabetes_NOUN grow...</td>\n    </tr>\n    <tr>\n      <th>7094</th>\n      <td>med.000324</td>\n      <td>4105. free fatty acid metabolism in chinese ha...</td>\n      <td>med</td>\n      <td>free fatty acid metabolism chinese hamster nor...</td>\n      <td>free_ADJ fatty_NOUN acid_NOUN metabolism_NOUN ...</td>\n    </tr>\n  </tbody>\n</table>\n<p>7095 rows × 5 columns</p>\n</div>"
     },
     "metadata": {},
     "execution_count": 50
    }
   ],
   "source": [
    "df"
   ]
  },
  {
   "cell_type": "code",
   "execution_count": null,
   "metadata": {},
   "outputs": [],
   "source": []
  },
  {
   "cell_type": "code",
   "execution_count": null,
   "metadata": {},
   "outputs": [],
   "source": []
  }
 ]
}