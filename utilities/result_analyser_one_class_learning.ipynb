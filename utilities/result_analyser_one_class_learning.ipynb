{
 "metadata": {
  "language_info": {
   "codemirror_mode": {
    "name": "ipython",
    "version": 3
   },
   "file_extension": ".py",
   "mimetype": "text/x-python",
   "name": "python",
   "nbconvert_exporter": "python",
   "pygments_lexer": "ipython3",
   "version": "3.7.3"
  },
  "orig_nbformat": 2,
  "kernelspec": {
   "name": "python3",
   "display_name": "Python 3",
   "language": "python"
  }
 },
 "nbformat": 4,
 "nbformat_minor": 2,
 "cells": [
  {
   "source": [
    "# Imports"
   ],
   "cell_type": "markdown",
   "metadata": {}
  },
  {
   "cell_type": "code",
   "execution_count": 6,
   "metadata": {},
   "outputs": [],
   "source": [
    "import pandas as pd"
   ]
  },
  {
   "source": [
    "# Reading and processing"
   ],
   "cell_type": "markdown",
   "metadata": {}
  },
  {
   "cell_type": "code",
   "execution_count": 7,
   "metadata": {},
   "outputs": [],
   "source": [
    "df = pd.read_csv('/home/rafael/Área de Trabalho/Projetos/TextCategorizationToolPython/saida/resultados_teste.csv')"
   ]
  },
  {
   "cell_type": "code",
   "execution_count": 8,
   "metadata": {},
   "outputs": [
    {
     "output_type": "execute_result",
     "data": {
      "text/plain": [
       "              Algorithm                                         Parameters  \\\n",
       "0    LocalOutlierFactor  {'algorithm': 'auto', 'contamination': 'auto',...   \n",
       "1    LocalOutlierFactor  {'algorithm': 'auto', 'contamination': 'auto',...   \n",
       "2    LocalOutlierFactor  {'algorithm': 'auto', 'contamination': 'auto',...   \n",
       "3    LocalOutlierFactor  {'algorithm': 'auto', 'contamination': 'auto',...   \n",
       "4    LocalOutlierFactor  {'algorithm': 'auto', 'contamination': 'auto',...   \n",
       "..                  ...                                                ...   \n",
       "895  LocalOutlierFactor  {'algorithm': 'auto', 'contamination': 'auto',...   \n",
       "896  LocalOutlierFactor  {'algorithm': 'auto', 'contamination': 'auto',...   \n",
       "897  LocalOutlierFactor  {'algorithm': 'auto', 'contamination': 'auto',...   \n",
       "898  LocalOutlierFactor  {'algorithm': 'auto', 'contamination': 'auto',...   \n",
       "899  LocalOutlierFactor  {'algorithm': 'auto', 'contamination': 'auto',...   \n",
       "\n",
       "    Threshold_Type Threshold_Value                    Class  \\\n",
       "0             None            None  ArtificiallIntelligence   \n",
       "1             None            None  ArtificiallIntelligence   \n",
       "2             None            None  ArtificiallIntelligence   \n",
       "3             None            None  ArtificiallIntelligence   \n",
       "4             None            None  ArtificiallIntelligence   \n",
       "..             ...             ...                      ...   \n",
       "895           None            None                   Theory   \n",
       "896           None            None                   Theory   \n",
       "897           None            None                   Theory   \n",
       "898           None            None                   Theory   \n",
       "899           None            None                   Theory   \n",
       "\n",
       "     Number_Labeled_Examples  Iteration  Accuracy  Precision  Recall  \\\n",
       "0                          5          0  0.418367   0.418367     1.0   \n",
       "1                          5          1  0.418367   0.418367     1.0   \n",
       "2                          5          2  0.418367   0.418367     1.0   \n",
       "3                          5          3  0.418367   0.418367     1.0   \n",
       "4                          5          4  0.418367   0.418367     1.0   \n",
       "..                       ...        ...       ...        ...     ...   \n",
       "895                       30          5  0.059480   0.059480     1.0   \n",
       "896                       30          6  0.059480   0.059480     1.0   \n",
       "897                       30          7  0.059480   0.059480     1.0   \n",
       "898                       30          8  0.059480   0.059480     1.0   \n",
       "899                       30          9  0.059480   0.059480     1.0   \n",
       "\n",
       "           F1   ROC_AUC      Confusion_Matrix  Building_Time  \\\n",
       "0    0.589928  0.498859  [[0, 171], [0, 123]]       0.000103   \n",
       "1    0.589928  0.496529  [[0, 171], [0, 123]]       0.000103   \n",
       "2    0.589928  0.560999  [[0, 171], [0, 123]]       0.000102   \n",
       "3    0.589928  0.484168  [[0, 171], [0, 123]]       0.000115   \n",
       "4    0.589928  0.562164  [[0, 171], [0, 123]]       0.000107   \n",
       "..        ...       ...                   ...            ...   \n",
       "895  0.112281  0.723073   [[0, 253], [0, 16]]       0.000102   \n",
       "896  0.112281  0.649209   [[0, 253], [0, 16]]       0.000102   \n",
       "897  0.112281  0.719121   [[0, 253], [0, 16]]       0.000102   \n",
       "898  0.112281  0.708992   [[0, 253], [0, 16]]       0.000102   \n",
       "899  0.112281  0.783350   [[0, 253], [0, 16]]       0.000102   \n",
       "\n",
       "     Classification_Time    Memory  \n",
       "0               0.000234  0.054688  \n",
       "1               0.000234  0.054688  \n",
       "2               0.000230  0.054688  \n",
       "3               0.000232  0.054688  \n",
       "4               0.000237  0.054688  \n",
       "..                   ...       ...  \n",
       "895             0.000258  0.054688  \n",
       "896             0.000247  0.054688  \n",
       "897             0.000259  0.054688  \n",
       "898             0.000243  0.054688  \n",
       "899             0.000248  0.054688  \n",
       "\n",
       "[900 rows x 16 columns]"
      ],
      "text/html": "<div>\n<style scoped>\n    .dataframe tbody tr th:only-of-type {\n        vertical-align: middle;\n    }\n\n    .dataframe tbody tr th {\n        vertical-align: top;\n    }\n\n    .dataframe thead th {\n        text-align: right;\n    }\n</style>\n<table border=\"1\" class=\"dataframe\">\n  <thead>\n    <tr style=\"text-align: right;\">\n      <th></th>\n      <th>Algorithm</th>\n      <th>Parameters</th>\n      <th>Threshold_Type</th>\n      <th>Threshold_Value</th>\n      <th>Class</th>\n      <th>Number_Labeled_Examples</th>\n      <th>Iteration</th>\n      <th>Accuracy</th>\n      <th>Precision</th>\n      <th>Recall</th>\n      <th>F1</th>\n      <th>ROC_AUC</th>\n      <th>Confusion_Matrix</th>\n      <th>Building_Time</th>\n      <th>Classification_Time</th>\n      <th>Memory</th>\n    </tr>\n  </thead>\n  <tbody>\n    <tr>\n      <th>0</th>\n      <td>LocalOutlierFactor</td>\n      <td>{'algorithm': 'auto', 'contamination': 'auto',...</td>\n      <td>None</td>\n      <td>None</td>\n      <td>ArtificiallIntelligence</td>\n      <td>5</td>\n      <td>0</td>\n      <td>0.418367</td>\n      <td>0.418367</td>\n      <td>1.0</td>\n      <td>0.589928</td>\n      <td>0.498859</td>\n      <td>[[0, 171], [0, 123]]</td>\n      <td>0.000103</td>\n      <td>0.000234</td>\n      <td>0.054688</td>\n    </tr>\n    <tr>\n      <th>1</th>\n      <td>LocalOutlierFactor</td>\n      <td>{'algorithm': 'auto', 'contamination': 'auto',...</td>\n      <td>None</td>\n      <td>None</td>\n      <td>ArtificiallIntelligence</td>\n      <td>5</td>\n      <td>1</td>\n      <td>0.418367</td>\n      <td>0.418367</td>\n      <td>1.0</td>\n      <td>0.589928</td>\n      <td>0.496529</td>\n      <td>[[0, 171], [0, 123]]</td>\n      <td>0.000103</td>\n      <td>0.000234</td>\n      <td>0.054688</td>\n    </tr>\n    <tr>\n      <th>2</th>\n      <td>LocalOutlierFactor</td>\n      <td>{'algorithm': 'auto', 'contamination': 'auto',...</td>\n      <td>None</td>\n      <td>None</td>\n      <td>ArtificiallIntelligence</td>\n      <td>5</td>\n      <td>2</td>\n      <td>0.418367</td>\n      <td>0.418367</td>\n      <td>1.0</td>\n      <td>0.589928</td>\n      <td>0.560999</td>\n      <td>[[0, 171], [0, 123]]</td>\n      <td>0.000102</td>\n      <td>0.000230</td>\n      <td>0.054688</td>\n    </tr>\n    <tr>\n      <th>3</th>\n      <td>LocalOutlierFactor</td>\n      <td>{'algorithm': 'auto', 'contamination': 'auto',...</td>\n      <td>None</td>\n      <td>None</td>\n      <td>ArtificiallIntelligence</td>\n      <td>5</td>\n      <td>3</td>\n      <td>0.418367</td>\n      <td>0.418367</td>\n      <td>1.0</td>\n      <td>0.589928</td>\n      <td>0.484168</td>\n      <td>[[0, 171], [0, 123]]</td>\n      <td>0.000115</td>\n      <td>0.000232</td>\n      <td>0.054688</td>\n    </tr>\n    <tr>\n      <th>4</th>\n      <td>LocalOutlierFactor</td>\n      <td>{'algorithm': 'auto', 'contamination': 'auto',...</td>\n      <td>None</td>\n      <td>None</td>\n      <td>ArtificiallIntelligence</td>\n      <td>5</td>\n      <td>4</td>\n      <td>0.418367</td>\n      <td>0.418367</td>\n      <td>1.0</td>\n      <td>0.589928</td>\n      <td>0.562164</td>\n      <td>[[0, 171], [0, 123]]</td>\n      <td>0.000107</td>\n      <td>0.000237</td>\n      <td>0.054688</td>\n    </tr>\n    <tr>\n      <th>...</th>\n      <td>...</td>\n      <td>...</td>\n      <td>...</td>\n      <td>...</td>\n      <td>...</td>\n      <td>...</td>\n      <td>...</td>\n      <td>...</td>\n      <td>...</td>\n      <td>...</td>\n      <td>...</td>\n      <td>...</td>\n      <td>...</td>\n      <td>...</td>\n      <td>...</td>\n      <td>...</td>\n    </tr>\n    <tr>\n      <th>895</th>\n      <td>LocalOutlierFactor</td>\n      <td>{'algorithm': 'auto', 'contamination': 'auto',...</td>\n      <td>None</td>\n      <td>None</td>\n      <td>Theory</td>\n      <td>30</td>\n      <td>5</td>\n      <td>0.059480</td>\n      <td>0.059480</td>\n      <td>1.0</td>\n      <td>0.112281</td>\n      <td>0.723073</td>\n      <td>[[0, 253], [0, 16]]</td>\n      <td>0.000102</td>\n      <td>0.000258</td>\n      <td>0.054688</td>\n    </tr>\n    <tr>\n      <th>896</th>\n      <td>LocalOutlierFactor</td>\n      <td>{'algorithm': 'auto', 'contamination': 'auto',...</td>\n      <td>None</td>\n      <td>None</td>\n      <td>Theory</td>\n      <td>30</td>\n      <td>6</td>\n      <td>0.059480</td>\n      <td>0.059480</td>\n      <td>1.0</td>\n      <td>0.112281</td>\n      <td>0.649209</td>\n      <td>[[0, 253], [0, 16]]</td>\n      <td>0.000102</td>\n      <td>0.000247</td>\n      <td>0.054688</td>\n    </tr>\n    <tr>\n      <th>897</th>\n      <td>LocalOutlierFactor</td>\n      <td>{'algorithm': 'auto', 'contamination': 'auto',...</td>\n      <td>None</td>\n      <td>None</td>\n      <td>Theory</td>\n      <td>30</td>\n      <td>7</td>\n      <td>0.059480</td>\n      <td>0.059480</td>\n      <td>1.0</td>\n      <td>0.112281</td>\n      <td>0.719121</td>\n      <td>[[0, 253], [0, 16]]</td>\n      <td>0.000102</td>\n      <td>0.000259</td>\n      <td>0.054688</td>\n    </tr>\n    <tr>\n      <th>898</th>\n      <td>LocalOutlierFactor</td>\n      <td>{'algorithm': 'auto', 'contamination': 'auto',...</td>\n      <td>None</td>\n      <td>None</td>\n      <td>Theory</td>\n      <td>30</td>\n      <td>8</td>\n      <td>0.059480</td>\n      <td>0.059480</td>\n      <td>1.0</td>\n      <td>0.112281</td>\n      <td>0.708992</td>\n      <td>[[0, 253], [0, 16]]</td>\n      <td>0.000102</td>\n      <td>0.000243</td>\n      <td>0.054688</td>\n    </tr>\n    <tr>\n      <th>899</th>\n      <td>LocalOutlierFactor</td>\n      <td>{'algorithm': 'auto', 'contamination': 'auto',...</td>\n      <td>None</td>\n      <td>None</td>\n      <td>Theory</td>\n      <td>30</td>\n      <td>9</td>\n      <td>0.059480</td>\n      <td>0.059480</td>\n      <td>1.0</td>\n      <td>0.112281</td>\n      <td>0.783350</td>\n      <td>[[0, 253], [0, 16]]</td>\n      <td>0.000102</td>\n      <td>0.000248</td>\n      <td>0.054688</td>\n    </tr>\n  </tbody>\n</table>\n<p>900 rows × 16 columns</p>\n</div>"
     },
     "metadata": {},
     "execution_count": 8
    }
   ],
   "source": [
    "df"
   ]
  },
  {
   "cell_type": "code",
   "execution_count": 9,
   "metadata": {
    "tags": []
   },
   "outputs": [
    {
     "output_type": "stream",
     "name": "stdout",
     "text": [
      "5\n0.3628867404078927\n10\n0.3485253280900158\n20\n0.30576502003511413\n30\n0.3578863493387363\n"
     ]
    }
   ],
   "source": [
    "metric = 'F1'\n",
    "num_labeles_exes = df['Number_Labeled_Examples'].unique()\n",
    "df_groups = []\n",
    "for nle in num_labeles_exes: \n",
    "    print(nle, )\n",
    "    df_selected = df[df['Number_Labeled_Examples'] == nle]\n",
    "    df_grouped = df_selected.groupby(by=['Algorithm','Parameters','Threshold_Type','Threshold_Value'])\n",
    "    df_grouped = df_grouped.mean()\n",
    "    print(df_grouped[metric].max())\n",
    "\n"
   ]
  },
  {
   "cell_type": "code",
   "execution_count": 10,
   "metadata": {},
   "outputs": [
    {
     "output_type": "execute_result",
     "data": {
      "text/plain": [
       "Number_Labeled_Examples    30.000000\n",
       "Iteration                   4.500000\n",
       "Accuracy                    0.242131\n",
       "Precision                   0.228742\n",
       "Recall                      0.991790\n",
       "F1                          0.353903\n",
       "ROC_AUC                     0.694989\n",
       "Building_Time               0.000102\n",
       "Classification_Time         0.000253\n",
       "Memory                      0.054688\n",
       "dtype: float64"
      ]
     },
     "metadata": {},
     "execution_count": 10
    }
   ],
   "source": [
    "df_grouped.mean()"
   ]
  },
  {
   "cell_type": "code",
   "execution_count": null,
   "metadata": {},
   "outputs": [],
   "source": []
  },
  {
   "cell_type": "code",
   "execution_count": null,
   "metadata": {},
   "outputs": [],
   "source": []
  }
 ]
}