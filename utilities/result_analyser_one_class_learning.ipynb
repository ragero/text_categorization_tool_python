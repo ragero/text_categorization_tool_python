{
 "metadata": {
  "language_info": {
   "codemirror_mode": {
    "name": "ipython",
    "version": 3
   },
   "file_extension": ".py",
   "mimetype": "text/x-python",
   "name": "python",
   "nbconvert_exporter": "python",
   "pygments_lexer": "ipython3",
   "version": "3.7.3-final"
  },
  "orig_nbformat": 2,
  "kernelspec": {
   "name": "python3",
   "display_name": "Python 3",
   "language": "python"
  }
 },
 "nbformat": 4,
 "nbformat_minor": 2,
 "cells": [
  {
   "source": [
    "# Imports"
   ],
   "cell_type": "markdown",
   "metadata": {}
  },
  {
   "cell_type": "code",
   "execution_count": 1,
   "metadata": {},
   "outputs": [],
   "source": [
    "import pandas as pd"
   ]
  },
  {
   "source": [
    "# Reading and processing"
   ],
   "cell_type": "markdown",
   "metadata": {}
  },
  {
   "cell_type": "code",
   "execution_count": 9,
   "metadata": {},
   "outputs": [],
   "source": [
    "df = pd.read_csv('/home/rafael/Área de Trabalho/Projetos/TextCategorizationToolPython/saida/resultados_teste.csv')"
   ]
  },
  {
   "cell_type": "code",
   "execution_count": 10,
   "metadata": {},
   "outputs": [
    {
     "output_type": "execute_result",
     "data": {
      "text/plain": [
       "             Algorithm                                         Parameters  \\\n",
       "0     DenseAutoencoder  {'batch_size': 1, 'num_epochs': 200, 'layers':...   \n",
       "1     DenseAutoencoder  {'batch_size': 1, 'num_epochs': 200, 'layers':...   \n",
       "2     DenseAutoencoder  {'batch_size': 1, 'num_epochs': 200, 'layers':...   \n",
       "3     DenseAutoencoder  {'batch_size': 1, 'num_epochs': 200, 'layers':...   \n",
       "4     DenseAutoencoder  {'batch_size': 1, 'num_epochs': 200, 'layers':...   \n",
       "...                ...                                                ...   \n",
       "2408  DenseAutoencoder  {'batch_size': 1, 'num_epochs': 200, 'layers':...   \n",
       "2409  DenseAutoencoder  {'batch_size': 1, 'num_epochs': 200, 'layers':...   \n",
       "2410  DenseAutoencoder  {'batch_size': 1, 'num_epochs': 200, 'layers':...   \n",
       "2411  DenseAutoencoder  {'batch_size': 1, 'num_epochs': 200, 'layers':...   \n",
       "2412  DenseAutoencoder  {'batch_size': 1, 'num_epochs': 200, 'layers':...   \n",
       "\n",
       "     Threshold_Type  Threshold_Value                      Class  \\\n",
       "0             Fixed             0.05  \"ArtificiallIntelligence\"   \n",
       "1             Fixed              0.1  \"ArtificiallIntelligence\"   \n",
       "2             Fixed             0.15  \"ArtificiallIntelligence\"   \n",
       "3             Fixed              0.2  \"ArtificiallIntelligence\"   \n",
       "4             Fixed             0.25  \"ArtificiallIntelligence\"   \n",
       "...             ...              ...                        ...   \n",
       "2408        6-sigma  (-1*mean) + std                 \"Robotics\"   \n",
       "2409        6-sigma   (0*mean) + std                 \"Robotics\"   \n",
       "2410        6-sigma   (1*mean) + std                 \"Robotics\"   \n",
       "2411        6-sigma   (2*mean) + std                 \"Robotics\"   \n",
       "2412        6-sigma   (3*mean) + std                 \"Robotics\"   \n",
       "\n",
       "      Number_Labeled_Examples  Iteration  Accuracy  Precision    Recall  \\\n",
       "0                           1          0  0.429530   0.427119  0.992126   \n",
       "1                           1          0  0.432886   0.428571  0.992126   \n",
       "2                           1          0  0.429530   0.426621  0.984252   \n",
       "3                           1          0  0.439597   0.429078  0.952756   \n",
       "4                           1          0  0.439597   0.423664  0.874016   \n",
       "...                       ...        ...       ...        ...       ...   \n",
       "2408                       10          6  0.685121   0.000000  0.000000   \n",
       "2409                       10          6  0.688581   0.000000  0.000000   \n",
       "2410                       10          6  0.688581   0.000000  0.000000   \n",
       "2411                       10          6  0.688581   0.000000  0.000000   \n",
       "2412                       10          6  0.688581   0.000000  0.000000   \n",
       "\n",
       "            F1   ROC_AUC        Confusion_Matrix  Building_Time  \\\n",
       "0     0.597156  0.576415    [[2, 169], [1, 126]]       0.000851   \n",
       "1     0.598575  0.576415    [[3, 168], [1, 126]]       0.000851   \n",
       "2     0.595238  0.576415    [[3, 168], [2, 125]]       0.000851   \n",
       "3     0.591687  0.576415   [[10, 161], [6, 121]]       0.000851   \n",
       "4     0.570694  0.576415  [[20, 151], [16, 111]]       0.000851   \n",
       "...        ...       ...                     ...            ...   \n",
       "2408  0.000000  0.612284     [[198, 1], [90, 0]]       0.002653   \n",
       "2409  0.000000  0.612284     [[199, 0], [90, 0]]       0.002653   \n",
       "2410  0.000000  0.612284     [[199, 0], [90, 0]]       0.002653   \n",
       "2411  0.000000  0.612284     [[199, 0], [90, 0]]       0.002653   \n",
       "2412  0.000000  0.612284     [[199, 0], [90, 0]]       0.002653   \n",
       "\n",
       "      Classification_Time    Memory  \n",
       "0                0.000111  0.054688  \n",
       "1                0.000098  0.054688  \n",
       "2                0.000103  0.054688  \n",
       "3                0.000095  0.054688  \n",
       "4                0.000095  0.054688  \n",
       "...                   ...       ...  \n",
       "2408             0.000102  0.054688  \n",
       "2409             0.000099  0.054688  \n",
       "2410             0.000111  0.054688  \n",
       "2411             0.000126  0.054688  \n",
       "2412             0.000107  0.054688  \n",
       "\n",
       "[2413 rows x 16 columns]"
      ],
      "text/html": "<div>\n<style scoped>\n    .dataframe tbody tr th:only-of-type {\n        vertical-align: middle;\n    }\n\n    .dataframe tbody tr th {\n        vertical-align: top;\n    }\n\n    .dataframe thead th {\n        text-align: right;\n    }\n</style>\n<table border=\"1\" class=\"dataframe\">\n  <thead>\n    <tr style=\"text-align: right;\">\n      <th></th>\n      <th>Algorithm</th>\n      <th>Parameters</th>\n      <th>Threshold_Type</th>\n      <th>Threshold_Value</th>\n      <th>Class</th>\n      <th>Number_Labeled_Examples</th>\n      <th>Iteration</th>\n      <th>Accuracy</th>\n      <th>Precision</th>\n      <th>Recall</th>\n      <th>F1</th>\n      <th>ROC_AUC</th>\n      <th>Confusion_Matrix</th>\n      <th>Building_Time</th>\n      <th>Classification_Time</th>\n      <th>Memory</th>\n    </tr>\n  </thead>\n  <tbody>\n    <tr>\n      <th>0</th>\n      <td>DenseAutoencoder</td>\n      <td>{'batch_size': 1, 'num_epochs': 200, 'layers':...</td>\n      <td>Fixed</td>\n      <td>0.05</td>\n      <td>\"ArtificiallIntelligence\"</td>\n      <td>1</td>\n      <td>0</td>\n      <td>0.429530</td>\n      <td>0.427119</td>\n      <td>0.992126</td>\n      <td>0.597156</td>\n      <td>0.576415</td>\n      <td>[[2, 169], [1, 126]]</td>\n      <td>0.000851</td>\n      <td>0.000111</td>\n      <td>0.054688</td>\n    </tr>\n    <tr>\n      <th>1</th>\n      <td>DenseAutoencoder</td>\n      <td>{'batch_size': 1, 'num_epochs': 200, 'layers':...</td>\n      <td>Fixed</td>\n      <td>0.1</td>\n      <td>\"ArtificiallIntelligence\"</td>\n      <td>1</td>\n      <td>0</td>\n      <td>0.432886</td>\n      <td>0.428571</td>\n      <td>0.992126</td>\n      <td>0.598575</td>\n      <td>0.576415</td>\n      <td>[[3, 168], [1, 126]]</td>\n      <td>0.000851</td>\n      <td>0.000098</td>\n      <td>0.054688</td>\n    </tr>\n    <tr>\n      <th>2</th>\n      <td>DenseAutoencoder</td>\n      <td>{'batch_size': 1, 'num_epochs': 200, 'layers':...</td>\n      <td>Fixed</td>\n      <td>0.15</td>\n      <td>\"ArtificiallIntelligence\"</td>\n      <td>1</td>\n      <td>0</td>\n      <td>0.429530</td>\n      <td>0.426621</td>\n      <td>0.984252</td>\n      <td>0.595238</td>\n      <td>0.576415</td>\n      <td>[[3, 168], [2, 125]]</td>\n      <td>0.000851</td>\n      <td>0.000103</td>\n      <td>0.054688</td>\n    </tr>\n    <tr>\n      <th>3</th>\n      <td>DenseAutoencoder</td>\n      <td>{'batch_size': 1, 'num_epochs': 200, 'layers':...</td>\n      <td>Fixed</td>\n      <td>0.2</td>\n      <td>\"ArtificiallIntelligence\"</td>\n      <td>1</td>\n      <td>0</td>\n      <td>0.439597</td>\n      <td>0.429078</td>\n      <td>0.952756</td>\n      <td>0.591687</td>\n      <td>0.576415</td>\n      <td>[[10, 161], [6, 121]]</td>\n      <td>0.000851</td>\n      <td>0.000095</td>\n      <td>0.054688</td>\n    </tr>\n    <tr>\n      <th>4</th>\n      <td>DenseAutoencoder</td>\n      <td>{'batch_size': 1, 'num_epochs': 200, 'layers':...</td>\n      <td>Fixed</td>\n      <td>0.25</td>\n      <td>\"ArtificiallIntelligence\"</td>\n      <td>1</td>\n      <td>0</td>\n      <td>0.439597</td>\n      <td>0.423664</td>\n      <td>0.874016</td>\n      <td>0.570694</td>\n      <td>0.576415</td>\n      <td>[[20, 151], [16, 111]]</td>\n      <td>0.000851</td>\n      <td>0.000095</td>\n      <td>0.054688</td>\n    </tr>\n    <tr>\n      <th>...</th>\n      <td>...</td>\n      <td>...</td>\n      <td>...</td>\n      <td>...</td>\n      <td>...</td>\n      <td>...</td>\n      <td>...</td>\n      <td>...</td>\n      <td>...</td>\n      <td>...</td>\n      <td>...</td>\n      <td>...</td>\n      <td>...</td>\n      <td>...</td>\n      <td>...</td>\n      <td>...</td>\n    </tr>\n    <tr>\n      <th>2408</th>\n      <td>DenseAutoencoder</td>\n      <td>{'batch_size': 1, 'num_epochs': 200, 'layers':...</td>\n      <td>6-sigma</td>\n      <td>(-1*mean) + std</td>\n      <td>\"Robotics\"</td>\n      <td>10</td>\n      <td>6</td>\n      <td>0.685121</td>\n      <td>0.000000</td>\n      <td>0.000000</td>\n      <td>0.000000</td>\n      <td>0.612284</td>\n      <td>[[198, 1], [90, 0]]</td>\n      <td>0.002653</td>\n      <td>0.000102</td>\n      <td>0.054688</td>\n    </tr>\n    <tr>\n      <th>2409</th>\n      <td>DenseAutoencoder</td>\n      <td>{'batch_size': 1, 'num_epochs': 200, 'layers':...</td>\n      <td>6-sigma</td>\n      <td>(0*mean) + std</td>\n      <td>\"Robotics\"</td>\n      <td>10</td>\n      <td>6</td>\n      <td>0.688581</td>\n      <td>0.000000</td>\n      <td>0.000000</td>\n      <td>0.000000</td>\n      <td>0.612284</td>\n      <td>[[199, 0], [90, 0]]</td>\n      <td>0.002653</td>\n      <td>0.000099</td>\n      <td>0.054688</td>\n    </tr>\n    <tr>\n      <th>2410</th>\n      <td>DenseAutoencoder</td>\n      <td>{'batch_size': 1, 'num_epochs': 200, 'layers':...</td>\n      <td>6-sigma</td>\n      <td>(1*mean) + std</td>\n      <td>\"Robotics\"</td>\n      <td>10</td>\n      <td>6</td>\n      <td>0.688581</td>\n      <td>0.000000</td>\n      <td>0.000000</td>\n      <td>0.000000</td>\n      <td>0.612284</td>\n      <td>[[199, 0], [90, 0]]</td>\n      <td>0.002653</td>\n      <td>0.000111</td>\n      <td>0.054688</td>\n    </tr>\n    <tr>\n      <th>2411</th>\n      <td>DenseAutoencoder</td>\n      <td>{'batch_size': 1, 'num_epochs': 200, 'layers':...</td>\n      <td>6-sigma</td>\n      <td>(2*mean) + std</td>\n      <td>\"Robotics\"</td>\n      <td>10</td>\n      <td>6</td>\n      <td>0.688581</td>\n      <td>0.000000</td>\n      <td>0.000000</td>\n      <td>0.000000</td>\n      <td>0.612284</td>\n      <td>[[199, 0], [90, 0]]</td>\n      <td>0.002653</td>\n      <td>0.000126</td>\n      <td>0.054688</td>\n    </tr>\n    <tr>\n      <th>2412</th>\n      <td>DenseAutoencoder</td>\n      <td>{'batch_size': 1, 'num_epochs': 200, 'layers':...</td>\n      <td>6-sigma</td>\n      <td>(3*mean) + std</td>\n      <td>\"Robotics\"</td>\n      <td>10</td>\n      <td>6</td>\n      <td>0.688581</td>\n      <td>0.000000</td>\n      <td>0.000000</td>\n      <td>0.000000</td>\n      <td>0.612284</td>\n      <td>[[199, 0], [90, 0]]</td>\n      <td>0.002653</td>\n      <td>0.000107</td>\n      <td>0.054688</td>\n    </tr>\n  </tbody>\n</table>\n<p>2413 rows × 16 columns</p>\n</div>"
     },
     "metadata": {},
     "execution_count": 10
    }
   ],
   "source": [
    "df"
   ]
  },
  {
   "cell_type": "code",
   "execution_count": 13,
   "metadata": {
    "tags": []
   },
   "outputs": [
    {
     "output_type": "stream",
     "name": "stdout",
     "text": [
      "1\n0.392642458401234\n5\n0.4400329066523431\n10\n0.557207468913048\n"
     ]
    }
   ],
   "source": [
    "metric = 'F1'\n",
    "num_labeles_exes = df['Number_Labeled_Examples'].unique()\n",
    "df_groups = []\n",
    "for nle in num_labeles_exes: \n",
    "    print(nle, )\n",
    "    df_selected = df[df['Number_Labeled_Examples'] == nle]\n",
    "    df_grouped = df_selected.groupby(by=['Algorithm','Parameters','Threshold_Type','Threshold_Value'])\n",
    "    df_grouped = df_grouped.mean()\n",
    "    print(df_grouped[metric].max())\n",
    "\n"
   ]
  },
  {
   "cell_type": "code",
   "execution_count": 12,
   "metadata": {},
   "outputs": [
    {
     "output_type": "execute_result",
     "data": {
      "text/plain": [
       "Number_Labeled_Examples    10.000000\n",
       "Iteration                   3.882353\n",
       "Accuracy                    0.533393\n",
       "Precision                   0.289786\n",
       "Recall                      0.454158\n",
       "F1                          0.282682\n",
       "ROC_AUC                     0.644621\n",
       "Building_Time               0.002857\n",
       "Classification_Time         0.000114\n",
       "Memory                      0.054688\n",
       "dtype: float64"
      ]
     },
     "metadata": {},
     "execution_count": 12
    }
   ],
   "source": [
    "df_grouped.mean()"
   ]
  }
 ]
}